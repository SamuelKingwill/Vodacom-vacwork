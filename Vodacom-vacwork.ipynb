{
 "cells": [
  {
   "cell_type": "code",
   "execution_count": 1,
   "metadata": {},
   "outputs": [],
   "source": [
    "import pickle\n",
    "import pandas as pd\n",
    "import numpy as np\n",
    "import matplotlib\n",
    "import geopandas\n",
    "import os.path\n",
    "import rpy2\n",
    "import scorecardpy as sc"
   ]
  },
  {
   "cell_type": "code",
   "execution_count": 2,
   "metadata": {},
   "outputs": [],
   "source": [
    "f = os.path.expanduser(\"~/Documents/Vodacom/data/df_raw_final.pkl\")\n",
    "\n",
    "#reading from datafile\n",
    "df = pd.read_pickle(f)\n",
    "\n",
    "#datafile = df"
   ]
  },
  {
   "cell_type": "code",
   "execution_count": 3,
   "metadata": {},
   "outputs": [],
   "source": [
    "#df.geometry"
   ]
  },
  {
   "cell_type": "code",
   "execution_count": 4,
   "metadata": {},
   "outputs": [],
   "source": [
    "#df.D_LEARNERS_KM2.mean()\n",
    "#df.D_MIGR_IN_KM2.max()\n",
    "#testing statistical inferences on panda"
   ]
  },
  {
   "cell_type": "code",
   "execution_count": 5,
   "metadata": {},
   "outputs": [],
   "source": [
    "dfclean = df.dropna(subset = ['target_label'])\n",
    "\n",
    "#new data set after dropping all values with NaN"
   ]
  },
  {
   "cell_type": "code",
   "execution_count": 6,
   "metadata": {},
   "outputs": [],
   "source": [
    "dfclean = dfclean.replace(to_replace = \"yes\", value = 1)\n",
    "dfclean = dfclean.replace(to_replace = \"no\", value = 0)\n",
    "dfclean = dfclean.replace(to_replace = \"maybe\", value = 2)\n",
    "\n",
    "#replace all strings \"yes\", \"no\", \"maybe\" with integers 0, 1, 2"
   ]
  },
  {
   "cell_type": "code",
   "execution_count": 7,
   "metadata": {},
   "outputs": [],
   "source": [
    "dfclean = dfclean[dfclean.target_label != 2]\n",
    "\n",
    "#remove all rows with target_label = 2 (\"maybe\")"
   ]
  },
  {
   "cell_type": "code",
   "execution_count": 8,
   "metadata": {},
   "outputs": [],
   "source": [
    "dfclean_nogeo = dfclean.drop(columns = \"geometry\")\n",
    "\n",
    "#remove column geometry due to string error with conversion\n",
    "#dfclean_nogeo"
   ]
  },
  {
   "cell_type": "code",
   "execution_count": 9,
   "metadata": {},
   "outputs": [],
   "source": [
    "%load_ext rpy2.ipython"
   ]
  },
  {
   "cell_type": "code",
   "execution_count": 10,
   "metadata": {},
   "outputs": [
    {
     "name": "stderr",
     "output_type": "stream",
     "text": [
      "R[write to console]: Loading required package: sqldf\n",
      "\n",
      "R[write to console]: Loading required package: gsubfn\n",
      "\n",
      "R[write to console]: Loading required package: proto\n",
      "\n",
      "R[write to console]: Loading required package: RSQLite\n",
      "\n",
      "R[write to console]: Loading required package: partykit\n",
      "\n",
      "R[write to console]: Loading required package: grid\n",
      "\n",
      "R[write to console]: Loading required package: libcoin\n",
      "\n",
      "R[write to console]: Loading required package: mvtnorm\n",
      "\n",
      "R[write to console]: Loading required package: Formula\n",
      "\n"
     ]
    }
   ],
   "source": [
    "%%R -i dfclean_nogeo -o cutp\n",
    "\n",
    "library(smbinning)\n",
    "\n",
    "sbin = smbinning(dfclean_nogeo, 'target_label', 'D_TOT_WORK_KM2')\n",
    "\n",
    "cutp = sbin$bands \n"
   ]
  },
  {
   "cell_type": "code",
   "execution_count": 12,
   "metadata": {},
   "outputs": [
    {
     "data": {
      "text/plain": [
       "{'D_TOT_WORK_KM2': [0.0, 0.6262, 1.5084, 3.4121, 84.3658, 483.1714]}"
      ]
     },
     "execution_count": 12,
     "metadata": {},
     "output_type": "execute_result"
    }
   ],
   "source": [
    "cuts = {\n",
    "    'D_TOT_WORK_KM2': np.array(cutp).tolist()}\n",
    "cuts\n",
    "\n",
    "#dict(zip(cutp))"
   ]
  },
  {
   "cell_type": "code",
   "execution_count": null,
   "metadata": {},
   "outputs": [],
   "source": [
    "bins = sc.woebin(dfclean_nogeo.loc[:,[\"D_TOT_WORK_KM2\", \"target_label\"]], \n",
    "                 y = \"target_label\", breaks_list = cuts)\n",
    "\n",
    "sc.woebin_plot(bins) \n",
    "print(bins)"
   ]
  },
  {
   "cell_type": "code",
   "execution_count": null,
   "metadata": {},
   "outputs": [],
   "source": []
  }
 ],
 "metadata": {
  "kernelspec": {
   "display_name": "Python 3",
   "language": "python",
   "name": "python3"
  },
  "language_info": {
   "codemirror_mode": {
    "name": "ipython",
    "version": 3
   },
   "file_extension": ".py",
   "mimetype": "text/x-python",
   "name": "python",
   "nbconvert_exporter": "python",
   "pygments_lexer": "ipython3",
   "version": "3.7.4"
  }
 },
 "nbformat": 4,
 "nbformat_minor": 2
}
