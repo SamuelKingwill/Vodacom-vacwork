{
 "cells": [
  {
   "cell_type": "code",
   "execution_count": null,
   "metadata": {},
   "outputs": [],
   "source": [
    "import pickle\n",
    "import pandas as pd\n",
    "import numpy as np\n",
    "import matplotlib.pyplot as plt\n",
    "import geopandas\n",
    "import os.path\n",
    "import rpy2\n",
    "import scorecardpy as sc\n",
    "from scorecardpy import info_value "
   ]
  },
  {
   "cell_type": "markdown",
   "metadata": {},
   "source": [
    "f = os.path.expanduser( \"~/Documents/Vodacom/data/df_raw_final.pkl\" )\n",
    "\n",
    "df = pd.read_pickle(f)"
   ]
  },
  {
   "cell_type": "code",
   "execution_count": null,
   "metadata": {},
   "outputs": [],
   "source": [
    "#new dataframe after dropping all values with NaN\n",
    "dfclean = df.dropna( subset = ['target_label'] )"
   ]
  },
  {
   "cell_type": "code",
   "execution_count": null,
   "metadata": {},
   "outputs": [],
   "source": [
    "#replace all strings \"yes\", \"no\", \"maybe\" with integers 0, 1, 2 \n",
    "dfclean = dfclean.replace( to_replace = \"yes\", value = 1 )\n",
    "dfclean = dfclean.replace( to_replace = \"no\", value = 0 )\n",
    "dfclean = dfclean.replace( to_replace = \"maybe\", value = 2 )"
   ]
  },
  {
   "cell_type": "code",
   "execution_count": null,
   "metadata": {},
   "outputs": [],
   "source": [
    "#remove all rows with target_label = 2 (\"maybe\")\n",
    "dfclean = dfclean[ dfclean.target_label != 2 ]"
   ]
  },
  {
   "cell_type": "code",
   "execution_count": null,
   "metadata": {},
   "outputs": [],
   "source": [
    "#remove column geometry due to string error with conversion\n",
    "dfclean_nogeo = dfclean.drop( columns = \"geometry\" )\n",
    "dfclean_nogeo['randfeature'] = np.random.normal(size = dfclean_nogeo.shape[0])"
   ]
  },
  {
   "cell_type": "markdown",
   "metadata": {},
   "source": [
    "plt.hist(dfclean_nogeo.randfeature, 100)\n",
    "plt.show()"
   ]
  },
  {
   "cell_type": "markdown",
   "metadata": {},
   "source": [
    "Column 'geometry' in dataframe causes unwanted errors.\n",
    "Initialize new dataframe without the 'geometry' column.\n",
    "Assumption that the 'geometry' column causes more issues than has relevance for model."
   ]
  },
  {
   "cell_type": "code",
   "execution_count": null,
   "metadata": {
    "scrolled": true
   },
   "outputs": [],
   "source": [
    "Feat_typ = {}\n",
    "Num_typ = {}\n",
    "\n",
    "num_list = []\n",
    "cat_list = []\n",
    "\n",
    "j = 1\n",
    "\n",
    "# for loop to identify feature types\n",
    "\n",
    "for i, feature in enumerate( dfclean_nogeo ):\n",
    "    \n",
    "    if ( dfclean_nogeo[ feature ].dtype == 'float64' or dfclean_nogeo[ feature ].dtype == 'int64'):\n",
    "        \n",
    "        value_list = dfclean_nogeo[feature].values\n",
    "        length_values_list = []\n",
    "        \n",
    "# for loop identifying if all items in a given feature have the same number of characters\n",
    "# if they do, identify feature as a category\n",
    "        \n",
    "        for item in value_list:\n",
    "            \n",
    "            length_values_list.append( len( str( item ) ) )\n",
    "\n",
    "# CODE = true if number of characters in values of all features are the same            \n",
    "            \n",
    "        CODE = ( len( set( length_values_list ) ) == 1)\n",
    "        \n",
    "    if (dfclean_nogeo[feature].dtype == 'object' or CODE):     \n",
    "\n",
    "        Feat_typ[feature] = [i,\"cat\"]\n",
    "        cat_list.append(feature)\n",
    "        \n",
    "    else:\n",
    "        \n",
    "        Feat_typ[feature] = [i, \"num\"]\n",
    "        Num_typ[feature] = [j, \"num\"]\n",
    "        num_list.append(feature)\n",
    "        j = j + 1\n",
    "     \n",
    "    # adding the 'target_label' column to num_list    \n",
    "    \n",
    "    if feature == \"target_label\":\n",
    "\n",
    "        num_list.append( feature )\n"
   ]
  },
  {
   "cell_type": "markdown",
   "metadata": {},
   "source": [
    "big explanation here probs"
   ]
  },
  {
   "cell_type": "markdown",
   "metadata": {},
   "source": [
    "%load_ext rpy2.ipython"
   ]
  },
  {
   "cell_type": "markdown",
   "metadata": {},
   "source": [
    "Activates the use of R in the Jupyter Notebook"
   ]
  },
  {
   "cell_type": "markdown",
   "metadata": {},
   "source": [
    "os.environ['KMP_DUPLICATE_LIB_OK']='True'"
   ]
  },
  {
   "cell_type": "markdown",
   "metadata": {},
   "source": [
    "Brute force fix for kernel dying on Mac, Error15"
   ]
  },
  {
   "cell_type": "markdown",
   "metadata": {},
   "source": [
    "%%R -i dfclean_nogeo -i num_list -o cuts\n",
    "\n",
    "library(smbinning)\n",
    "library(foreach)\n",
    "library(doParallel)\n",
    "\n",
    "\n",
    "comb <- function(...){\n",
    "    mapply('cbind', ..., SIMPLIFY = FALSE)\n",
    "}\n",
    "\n",
    "no_cores <- detectCores()\n",
    "registerDoParallel(cores = 4)\n",
    "\n",
    "numg_list = c()\n",
    "cutsgood = c()\n",
    "\n",
    "Features <- names(dfclean_nogeo)[1:ncol(dfclean_nogeo)]\n",
    "\n",
    "i = 1\n",
    "j = 1\n",
    "\n",
    "ptime <- system.time({\n",
    "\n",
    " cuts = foreach( col = Features, .combine = comb, .packages = 'smbinning')  %dopar%  {\n",
    "\n",
    "    sbin = smbinning( dfclean_nogeo, 'target_label', col )\n",
    "            \n",
    "       if ( !is.na( sbin[ 'bands' ] ) ) {\n",
    "        \n",
    "            cutsgood[[i]] <- sbin$bands[ -length( sbin$bands ) ]\n",
    "            numg_list[i] = col\n",
    "            i = i + 1\n",
    "           \n",
    "        } \n",
    "     \n",
    "        # adding target_label to numg_list\n",
    "        if ( col == \"target_label\" ) {\n",
    "\n",
    "            numg_list[i] = col\n",
    "\n",
    "        }\n",
    "     \n",
    "     return(list(numg_list, cutsgood))\n",
    "     \n",
    "    }\n",
    "    \n",
    "})[3]\n",
    "print(paste(\"Time taken for smbinning =\", ptime, \"seconds\"))"
   ]
  },
  {
   "cell_type": "code",
   "execution_count": null,
   "metadata": {},
   "outputs": [],
   "source": [
    "# create a list for numg_list from an R vector\n",
    "cuts = list(cuts)\n"
   ]
  },
  {
   "cell_type": "code",
   "execution_count": null,
   "metadata": {},
   "outputs": [],
   "source": [
    "np.save('cuts', cuts)"
   ]
  },
  {
   "cell_type": "code",
   "execution_count": null,
   "metadata": {},
   "outputs": [],
   "source": [
    "# creating dictionary of value cutsgood\n",
    "cutsg_dic = dict( zip( cuts[0], cuts[1] ) )"
   ]
  },
  {
   "cell_type": "markdown",
   "metadata": {},
   "source": [
    "The woebin function creates IV tables for all numerical features in dataframe. It uses smbinning's cut values for the bins for all numerical features within cutsg_dic, all other numerical features have bins cut by the woebin function. \n",
    "This is due to the assumption that smbinning utilizes a more accurate cut value for the bins and woebinning is the second best option available to us. "
   ]
  },
  {
   "cell_type": "code",
   "execution_count": null,
   "metadata": {},
   "outputs": [],
   "source": [
    "num_iv = sc.woebin( dfclean_nogeo.loc[ :, num_list ], y = \"target_label\", breaks_list = cutsg_dic, positive = 0)"
   ]
  },
  {
   "cell_type": "code",
   "execution_count": null,
   "metadata": {},
   "outputs": [],
   "source": [
    "# %%R -i dfclean_nogeo -i num_list -o cutsgood -o cutsbad -o numg_list -o numb_list\n",
    "\n",
    "# library(smbinning)\n",
    "\n",
    "# cutsgood = list()\n",
    "# cutsbad = list()\n",
    "# numg_list = list()\n",
    "# numb_list = list()\n",
    "\n",
    "# i = 1\n",
    "# j = 1\n",
    "\n",
    "# ptime <- system.time({\n",
    "\n",
    "#     for ( col in num_list ) {\n",
    "\n",
    "#         sbin = smbinning( dfclean_nogeo, 'target_label', col )\n",
    "\n",
    "#         if ( !is.na( sbin[ 'bands' ] ) ) {\n",
    "\n",
    "#             cutsgood[[i]] <- sbin$bands[ -length( sbin$bands ) ]\n",
    "#             numg_list[i] = col\n",
    "#             i = i + 1\n",
    "\n",
    "#         } else {\n",
    "\n",
    "#             cutsbad[[j]] = NA\n",
    "#             numb_list[i] = col\n",
    "#             j = j + 1\n",
    "\n",
    "#         }\n",
    "\n",
    "#         # adding target_label to numb_list and numg_list\n",
    "#         if ( col == \"target_label\" ) {\n",
    "\n",
    "#             numb_list[i] = col\n",
    "#             numg_list[i] = col\n",
    "\n",
    "#         }\n",
    "\n",
    "\n",
    "#     }\n",
    "    \n",
    "# })[3]\n",
    "\n",
    "# print(paste(\"Time taken for smbinning =\", ptime, \"seconds\"))"
   ]
  },
  {
   "cell_type": "code",
   "execution_count": null,
   "metadata": {},
   "outputs": [],
   "source": [
    "# # keep cutsgood as a listvector to add to dictionary\n",
    "# # create a list for numg_list from an R vector\n",
    "# numg_list = list( zip( *numg_list ) )\n",
    "# numg_list = list( numg_list[0] )\n",
    "\n",
    "# # creating dictionary of values numg_list and cutsgood\n",
    "# cutsg_dic = dict( zip( numg_list, cutsgood ) )\n",
    "\n",
    "# num_iv = sc.woebin( dfclean_nogeo.loc[ :, num_list ], y = \"target_label\", breaks_list = cutsg_dic, positive = 0)\n"
   ]
  },
  {
   "cell_type": "code",
   "execution_count": null,
   "metadata": {},
   "outputs": [],
   "source": [
    "Feat_sum = pd.DataFrame( dfclean_nogeo.dtypes )\n",
    "\n",
    "i = 0\n",
    "\n",
    "for feature in dfclean_nogeo:\n",
    "    \n",
    "    Feat_sum.loc[ feature,\"Unique\" ] = dfclean_nogeo[ feature ].nunique()\n",
    "    Feat_sum.loc[ feature, \"NaNs\" ] = dfclean_nogeo[ feature ].isna().sum()\n",
    "    i = i + 1"
   ]
  },
  {
   "cell_type": "markdown",
   "metadata": {},
   "source": [
    "Creating a dataframe to summarize each feature"
   ]
  },
  {
   "cell_type": "code",
   "execution_count": null,
   "metadata": {},
   "outputs": [],
   "source": [
    "# IV values of all categorical features in dataframe\n",
    "cat_iv = sc.info_value.iv( dfclean_nogeo.loc[ :, cat_list ], y = \"target_label\" )"
   ]
  },
  {
   "cell_type": "code",
   "execution_count": null,
   "metadata": {},
   "outputs": [],
   "source": [
    "# changing the headings of the dataframe cat_iv\n",
    "cat_iv = cat_iv.rename( columns = { 'variable':'', 'info_value': 'Total_IV' } )\n",
    "\n",
    "cat_iv = cat_iv.set_index('')"
   ]
  },
  {
   "cell_type": "code",
   "execution_count": null,
   "metadata": {},
   "outputs": [],
   "source": [
    "# adding iv values of numerical features to summary dataframe\n",
    "for feature in dfclean_nogeo.loc[ :, num_list ]:\n",
    "    \n",
    "    if ( feature != 'target_label') :\n",
    "        \n",
    "        Feat_sum.loc[ feature,'Total_IV' ] = num_iv[ feature ].total_iv[ 1 ]"
   ]
  },
  {
   "cell_type": "code",
   "execution_count": null,
   "metadata": {},
   "outputs": [],
   "source": [
    "i = 1\n",
    "\n",
    "# adding iv values of categorical features to summary datframe\n",
    "for feature in dfclean_nogeo.loc[ :, cat_list ]:\n",
    "    \n",
    "    if ( feature != 'target_label' ) :\n",
    "        \n",
    "        Feat_sum.loc[ feature,'Total_IV' ] = cat_iv.loc[ feature, 'Total_IV' ]\n",
    "        \n",
    "Feat_sum"
   ]
  },
  {
   "cell_type": "code",
   "execution_count": null,
   "metadata": {},
   "outputs": [],
   "source": [
    "Feat_sum.sort_values('Total_IV', ascending = False).head(40)"
   ]
  },
  {
   "cell_type": "code",
   "execution_count": null,
   "metadata": {},
   "outputs": [],
   "source": []
  }
 ],
 "metadata": {
  "kernelspec": {
   "display_name": "Python 3",
   "language": "python",
   "name": "python3"
  },
  "language_info": {
   "codemirror_mode": {
    "name": "ipython",
    "version": 3
   },
   "file_extension": ".py",
   "mimetype": "text/x-python",
   "name": "python",
   "nbconvert_exporter": "python",
   "pygments_lexer": "ipython3",
   "version": "3.7.5"
  }
 },
 "nbformat": 4,
 "nbformat_minor": 2
}
