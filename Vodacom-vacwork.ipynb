{
 "cells": [
  {
   "cell_type": "code",
   "execution_count": null,
   "metadata": {},
   "outputs": [],
   "source": [
    "import pickle\n",
    "import pandas as pd\n",
    "import numpy as np\n",
    "import matplotlib\n",
    "import geopandas\n",
    "import os.path\n",
    "import rpy2\n",
    "import scorecardpy as sc"
   ]
  },
  {
   "cell_type": "code",
   "execution_count": null,
   "metadata": {},
   "outputs": [],
   "source": [
    "f = os.path.expanduser(\"~/Documents/Vodacom/data/df_raw_final.pkl\")\n",
    "\n",
    "#reading from datafile\n",
    "df = pd.read_pickle(f)\n",
    "\n",
    "#datafile = df"
   ]
  },
  {
   "cell_type": "code",
   "execution_count": null,
   "metadata": {},
   "outputs": [],
   "source": [
    "#df.geometry"
   ]
  },
  {
   "cell_type": "code",
   "execution_count": null,
   "metadata": {},
   "outputs": [],
   "source": [
    "#df.D_LEARNERS_KM2.mean()\n",
    "#df.D_MIGR_IN_KM2.max()\n",
    "#testing statistical inferences on panda"
   ]
  },
  {
   "cell_type": "code",
   "execution_count": null,
   "metadata": {},
   "outputs": [],
   "source": [
    "dfclean = df.dropna(subset = ['target_label'])\n",
    "\n",
    "#new data set after dropping all values with NaN"
   ]
  },
  {
   "cell_type": "code",
   "execution_count": null,
   "metadata": {},
   "outputs": [],
   "source": [
    "dfclean = dfclean.replace(to_replace = \"yes\", value = 1)\n",
    "dfclean = dfclean.replace(to_replace = \"no\", value = 0)\n",
    "dfclean = dfclean.replace(to_replace = \"maybe\", value = 2)\n",
    "\n",
    "#replace all strings \"yes\", \"no\", \"maybe\" with integers 0, 1, 2"
   ]
  },
  {
   "cell_type": "code",
   "execution_count": null,
   "metadata": {},
   "outputs": [],
   "source": [
    "dfclean = dfclean[dfclean.target_label != 2]\n",
    "\n",
    "#remove all rows with target_label = 2 (\"maybe\")"
   ]
  },
  {
   "cell_type": "code",
   "execution_count": null,
   "metadata": {},
   "outputs": [],
   "source": [
    "dfclean_nogeo = dfclean.drop(columns = \"geometry\")\n",
    "\n",
    "#remove column geometry due to string error with conversion\n",
    "\n",
    "\n",
    "dfclean_nogeo.human_label\n",
    "# dfclean_nogeo.info()\n",
    "# dfclean_nogeo.describe(include = 'all')"
   ]
  },
  {
   "cell_type": "code",
   "execution_count": null,
   "metadata": {},
   "outputs": [],
   "source": [
    "# feat_sum = pd.DataFrame()\n",
    "# feat_sum = pd.DataFrame(dfclean_nogeo.dtypes)\n",
    "# i = 1\n",
    "\n",
    "# for feature in dfclean_nogeo:\n",
    "#         feat_sum.loc[i-1:3] = dfclean_nogeo[feature].nunique()\n",
    "#         feat_sum.loc[i-1:4] = dfclean_nogeo[feature].isna().sum()\n",
    "        \n",
    "#         i = i +1\n",
    "        \n",
    "# feat_sum"
   ]
  },
  {
   "cell_type": "code",
   "execution_count": null,
   "metadata": {},
   "outputs": [],
   "source": [
    "dfclean_nogeo.human_label.nunique()"
   ]
  },
  {
   "cell_type": "code",
   "execution_count": null,
   "metadata": {},
   "outputs": [],
   "source": [
    "if (dfclean_nogeo['EA_CODE'].dtype == 'object'):\n",
    "    \n",
    "    #dfclean_nogeo['EA_CODE'].astype('category')\n",
    "    \n",
    "elif (dfclean_nogeo['EA_CODE'].dtype == 'float64' or dfclean_nogeo['EA_CODE'].dtype =='int64'):\n",
    "    \n",
    "    my_list = dfclean_nogeo['EA_CODE'].values\n",
    "    new_list = []\n",
    "    for item in my_list:\n",
    "        new_list.append(len(str(item)))\n",
    "    \n",
    "    len(set(new_list)) == 1 \n",
    "    #dfclean_nogeo['EA_CODE'].astype('category')\n",
    "\n",
    "else     dfclean_nogeo['EA_CODE'].astype('numerical')"
   ]
  },
  {
   "cell_type": "code",
   "execution_count": null,
   "metadata": {},
   "outputs": [],
   "source": [
    "my_list = dfclean_nogeo['EA_CODE'].values\n",
    "\n",
    "new_list = []\n",
    "for item in my_list:\n",
    "    new_list.append(len(str(item)))\n",
    "    \n",
    "len(set(new_list)) == 1 \n"
   ]
  },
  {
   "cell_type": "code",
   "execution_count": null,
   "metadata": {},
   "outputs": [],
   "source": [
    "%load_ext rpy2.ipython"
   ]
  },
  {
   "cell_type": "code",
   "execution_count": null,
   "metadata": {},
   "outputs": [],
   "source": [
    "%%R -i dfclean_nogeo -o cutp\n",
    "\n",
    "library(smbinning)\n",
    "\n",
    "sbin = smbinning(dfclean_nogeo, 'target_label', 'D_MIGR_IN_KM2')\n",
    "\n",
    "cutp = sbin$bands "
   ]
  },
  {
   "cell_type": "code",
   "execution_count": null,
   "metadata": {},
   "outputs": [],
   "source": [
    "cuts = {\n",
    "    'D_MIGR_IN_KM2': np.array(cutp).tolist()}\n",
    "cuts\n",
    "\n",
    "#making a dictionary out of cut values named cutp"
   ]
  },
  {
   "cell_type": "code",
   "execution_count": null,
   "metadata": {},
   "outputs": [],
   "source": [
    "os.environ['KMP_DUPLICATE_LIB_OK']='True'\n",
    "#error 15 fix. Mac only."
   ]
  },
  {
   "cell_type": "code",
   "execution_count": null,
   "metadata": {},
   "outputs": [],
   "source": [
    "bins = sc.woebin(dfclean_nogeo.loc[:,[\"internet_access_grand_total\", \"target_label\"]], \n",
    "                 y = \"target_label\", breaks_list = cuts, positive = 0)\n",
    "\n",
    "sc.woebin_plot(bins) \n",
    "print(bins)"
   ]
  },
  {
   "cell_type": "code",
   "execution_count": null,
   "metadata": {},
   "outputs": [],
   "source": [
    "dfclean_nogeo.loc[:,[\"internet_access_grand_total\", \"target_label\"]]"
   ]
  },
  {
   "cell_type": "code",
   "execution_count": null,
   "metadata": {},
   "outputs": [],
   "source": []
  }
 ],
 "metadata": {
  "kernelspec": {
   "display_name": "Python 3",
   "language": "python",
   "name": "python3"
  },
  "language_info": {
   "codemirror_mode": {
    "name": "ipython",
    "version": 3
   },
   "file_extension": ".py",
   "mimetype": "text/x-python",
   "name": "python",
   "nbconvert_exporter": "python",
   "pygments_lexer": "ipython3",
   "version": "3.7.5"
  }
 },
 "nbformat": 4,
 "nbformat_minor": 2
}
